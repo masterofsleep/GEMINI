{
 "cells": [
  {
   "cell_type": "code",
   "execution_count": 40,
   "metadata": {
    "collapsed": true
   },
   "outputs": [],
   "source": [
    "import locale\n",
    "import glob\n",
    "import requests\n",
    "import tarfile\n",
    "import sys\n",
    "import codecs\n",
    "import gensim\n",
    "import os\n",
    "import collections\n",
    "import smart_open\n",
    "import random\n",
    "import csv\n",
    "from gensim.models.doc2vec import TaggedDocument\n",
    "from collections import namedtuple\n",
    "from nltk import word_tokenize"
   ]
  },
  {
   "cell_type": "code",
   "execution_count": 70,
   "metadata": {},
   "outputs": [
    {
     "name": "stdout",
     "output_type": "stream",
     "text": [
      "299 docs: 200 train-sentiment, 99 test-sentiment\n"
     ]
    }
   ],
   "source": [
    "os.chdir('H:/GEMINI/Results/WATSON/')\n",
    "f = open('nlp.data.csv', newline = \"\")\n",
    "full = csv.reader(f)\n",
    "full = list(full)\n",
    "\n",
    "SentimentDocument = namedtuple('SentimentDocument', 'words tags split sentiment')\n",
    "\n",
    "alldocs = []\n",
    "for line_no, line in enumerate(full):\n",
    "    tokens = gensim.utils.to_unicode(line[1].lower()).split()\n",
    "    words = tokens[1:]\n",
    "    tags = [line_no]\n",
    "    split = ['train', 'test'][line_no//200]\n",
    "    contrast = line[2]\n",
    "    alldocs.append(SentimentDocument(words, tags, split, contrast))\n",
    "\n",
    "train_docs = [doc for doc in alldocs if doc.split == 'train']\n",
    "test_docs = [doc for doc in alldocs if doc.split == 'test']\n",
    "doc_list = alldocs[:]  # for reshuffling per pass\n",
    "\n",
    "print('%d docs: %d train-sentiment, %d test-sentiment' % (len(doc_list), len(train_docs), len(test_docs)))"
   ]
  },
  {
   "cell_type": "code",
   "execution_count": 71,
   "metadata": {
    "collapsed": true
   },
   "outputs": [],
   "source": [
    "from gensim.models import Doc2Vec\n",
    "import gensim.models.doc2vec\n",
    "from collections import OrderedDict\n",
    "import multiprocessing"
   ]
  },
  {
   "cell_type": "code",
   "execution_count": 43,
   "metadata": {},
   "outputs": [
    {
     "name": "stdout",
     "output_type": "stream",
     "text": [
      "Doc2Vec(dm/c,d100,n5,w5,mc2,s0.001,t4)\n",
      "Doc2Vec(dbow,d100,n5,mc2,s0.001,t4)\n",
      "Doc2Vec(dm/m,d100,n5,w10,mc2,s0.001,t4)\n"
     ]
    }
   ],
   "source": [
    "cores = multiprocessing.cpu_count()\n",
    "assert gensim.models.doc2vec.FAST_VERSION > -1, \"this will be painfully slow otherwise\"\n",
    "\n",
    "simple_models = [\n",
    "    # PV-DM w/concatenation - window=5 (both sides) approximates paper's 10-word total window size\n",
    "    Doc2Vec(dm=1, dm_concat=1, size=100, window=5, negative=5, hs=0, min_count=2, workers=cores),\n",
    "    # PV-DBOW \n",
    "    Doc2Vec(dm=0, size=100, negative=5, hs=0, min_count=2, workers=cores),\n",
    "    # PV-DM w/average\n",
    "    Doc2Vec(dm=1, dm_mean=1, size=100, window=10, negative=5, hs=0, min_count=2, workers=cores),\n",
    "]\n",
    "\n",
    "# speed setup by sharing results of 1st model's vocabulary scan\n",
    "simple_models[0].build_vocab(alldocs)  # PV-DM/concat requires one special NULL word so it serves as template\n",
    "print(simple_models[0])\n",
    "for model in simple_models[1:]:\n",
    "    model.reset_from(simple_models[0])\n",
    "    print(model)\n",
    "\n",
    "models_by_name = OrderedDict((str(model), model) for model in simple_models)"
   ]
  },
  {
   "cell_type": "code",
   "execution_count": 45,
   "metadata": {
    "collapsed": true
   },
   "outputs": [],
   "source": [
    "from gensim.test.test_doc2vec import ConcatenatedDoc2Vec\n",
    "models_by_name['dbow+dmm'] = ConcatenatedDoc2Vec([simple_models[1], simple_models[2]])\n",
    "models_by_name['dbow+dmc'] = ConcatenatedDoc2Vec([simple_models[1], simple_models[0]])"
   ]
  },
  {
   "cell_type": "code",
   "execution_count": 72,
   "metadata": {
    "collapsed": true
   },
   "outputs": [],
   "source": [
    "model = gensim.models.Doc2Vec(train_docs, alpha = 0.1, size = 20, min_alpha = 0.025)"
   ]
  },
  {
   "cell_type": "code",
   "execution_count": 77,
   "metadata": {},
   "outputs": [
    {
     "name": "stdout",
     "output_type": "stream",
     "text": [
      "Now training epoch 0\n",
      "Now training epoch 20\n",
      "Now training epoch 40\n",
      "Now training epoch 60\n",
      "Now training epoch 80\n",
      "Now training epoch 100\n",
      "Now training epoch 120\n",
      "Now training epoch 140\n",
      "Now training epoch 160\n",
      "Now training epoch 180\n"
     ]
    }
   ],
   "source": [
    "for epoch in range(200):\n",
    "    if epoch % 20 == 0:\n",
    "        print ('Now training epoch %s'%epoch)\n",
    "    model.train\n",
    "    model.alpha -= 0.002  # decrease the learning rate\n",
    "    model.min_alpha = model.alpha  "
   ]
  },
  {
   "cell_type": "code",
   "execution_count": 78,
   "metadata": {},
   "outputs": [
    {
     "data": {
      "text/plain": [
       "[('scanning', 0.9731926918029785),\n",
       " ('administration', 0.9674476981163025),\n",
       " ('following', 0.9669854640960693),\n",
       " ('collimation', 0.9592838287353516),\n",
       " ('intravenously', 0.9511013031005859),\n",
       " ('thorax', 0.9480822086334229),\n",
       " ('5-mm', 0.9443165063858032),\n",
       " ('volumemetric', 0.9365969896316528),\n",
       " ('non-contrast', 0.9362979531288147),\n",
       " ('contrast.comparison', 0.9300181865692139)]"
      ]
     },
     "execution_count": 78,
     "metadata": {},
     "output_type": "execute_result"
    }
   ],
   "source": [
    "model.most_similar(\"enhanced\")"
   ]
  },
  {
   "cell_type": "code",
   "execution_count": 87,
   "metadata": {},
   "outputs": [
    {
     "ename": "AttributeError",
     "evalue": "'list' object has no attribute 'to_array'",
     "output_type": "error",
     "traceback": [
      "\u001b[1;31m---------------------------------------------------------------------------\u001b[0m",
      "\u001b[1;31mAttributeError\u001b[0m                            Traceback (most recent call last)",
      "\u001b[1;32m<ipython-input-87-7ea86aae313b>\u001b[0m in \u001b[0;36m<module>\u001b[1;34m()\u001b[0m\n\u001b[1;32m----> 1\u001b[1;33m \u001b[0mmodel\u001b[0m\u001b[1;33m.\u001b[0m\u001b[0mbuild_vocab\u001b[0m\u001b[1;33m(\u001b[0m\u001b[0mtrain_docs\u001b[0m\u001b[1;33m.\u001b[0m\u001b[0mto_array\u001b[0m\u001b[1;33m(\u001b[0m\u001b[1;33m)\u001b[0m\u001b[1;33m)\u001b[0m\u001b[1;33m\u001b[0m\u001b[0m\n\u001b[0m",
      "\u001b[1;31mAttributeError\u001b[0m: 'list' object has no attribute 'to_array'"
     ]
    }
   ],
   "source": []
  },
  {
   "cell_type": "code",
   "execution_count": 81,
   "metadata": {},
   "outputs": [
    {
     "data": {
      "text/plain": [
       "SentimentDocument(words=['noncontrast', 'ct', 'thoraxindication', 'aml', 'with', 'neutropenic', 'fever.no', 'previous', 'for', 'comparisonfindings:', 'right', 'tunneled', 'central', 'line', 'in', 'situ', 'with', 'distal', 'tip', 'in', 'the', 'svc.', 'bilateral', 'axillary', 'lymphadenopathy', 'measures', 'up', 'to', '1', 'cm', '.', 'no', 'mediastinal', 'lymphadenopathy', 'identified', 'within', 'the', 'limits', 'of', 'this', 'noncontrast', 'study.', 'there', 'is', 'a', 'small', 'pericardial', 'effusion.', 'no', 'pleural', 'effusions.', 'the', 'heart', 'is', 'mildly', 'enlarged', 'for', 'age.limited', 'unenhanced', 'images', 'of', 'the', 'upper', 'abdomen', 'reveal', 'hepatosplenomegaly.', 'no', 'airspace', 'consolidation', 'or', 'pulmonary', 'nodules', 'identified.', 'there', 'is', 'linear', 'band', 'atelectasis', 'within', 'the', 'apical', 'segment', 'of', 'the', 'right', 'lower', 'lobe', 'medially', 'and', 'at', 'the', 'right', 'lung', 'base', 'medial', 'basal', 'segment.', 'there', 'is', 'mosaic', 'attenuation', 'of', 'the', 'parenchyma', 'for', 'example', 'some', 'peripheral', 'areas', 'of', 'lucent', 'lung', 'at', 'the', 'bases', 'on', 'image', '62', 'in', 'keeping', 'with', 'a', 'air', 'trapping', 'from', 'small', 'airways.no', 'suspicious', 'bone', 'lesion', 'identified.conclusion:no', 'evidence', 'of', 'pneumonia', 'or', 'pulmonary', 'infectious', 'process.mild', 'cardiomegaly', 'for', 'the', \"patient's\", 'age', 'with', 'a', 'small', 'pericardial', 'effusion.'], tags=[200], split='test', sentiment='n')"
      ]
     },
     "execution_count": 81,
     "metadata": {},
     "output_type": "execute_result"
    }
   ],
   "source": [
    "test_docs[0]"
   ]
  },
  {
   "cell_type": "code",
   "execution_count": null,
   "metadata": {
    "collapsed": true
   },
   "outputs": [],
   "source": []
  }
 ],
 "metadata": {
  "kernelspec": {
   "display_name": "Python 3",
   "language": "python",
   "name": "python3"
  },
  "language_info": {
   "codemirror_mode": {
    "name": "ipython",
    "version": 3
   },
   "file_extension": ".py",
   "mimetype": "text/x-python",
   "name": "python",
   "nbconvert_exporter": "python",
   "pygments_lexer": "ipython3",
   "version": "3.5.3"
  }
 },
 "nbformat": 4,
 "nbformat_minor": 2
}
