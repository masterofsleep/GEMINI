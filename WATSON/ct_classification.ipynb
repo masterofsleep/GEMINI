{
 "cells": [
  {
   "cell_type": "code",
   "execution_count": 286,
   "metadata": {
    "collapsed": true
   },
   "outputs": [],
   "source": [
    "import csv\n",
    "import os\n",
    "import nltk\n",
    "import random\n",
    "from nltk import word_tokenize\n",
    "os.chdir('H:/GEMINI/Results/WATSON/')"
   ]
  },
  {
   "cell_type": "code",
   "execution_count": 287,
   "metadata": {
    "collapsed": true
   },
   "outputs": [],
   "source": [
    "f = open('nlp.data.csv', newline = \"\")\n",
    "full = csv.reader(f)"
   ]
  },
  {
   "cell_type": "code",
   "execution_count": 288,
   "metadata": {
    "collapsed": true
   },
   "outputs": [],
   "source": [
    "full = list(full)\n",
    "report = []\n",
    "contrast = []\n",
    "for row in full:\n",
    "    report.append(word_tokenize(row[1]))\n",
    "    contrast.append(row[2])\n",
    "report = report[1:]\n",
    "contrast = contrast[1:]"
   ]
  },
  {
   "cell_type": "code",
   "execution_count": 289,
   "metadata": {
    "collapsed": true
   },
   "outputs": [],
   "source": [
    "document = [(list(report[i]), contrast[i])\n",
    "           for i in range(298)]\n",
    "random.shuffle(document)"
   ]
  },
  {
   "cell_type": "code",
   "execution_count": 290,
   "metadata": {},
   "outputs": [
    {
     "data": {
      "text/plain": [
       "298"
      ]
     },
     "execution_count": 290,
     "metadata": {},
     "output_type": "execute_result"
    }
   ],
   "source": [
    "len(document)"
   ]
  },
  {
   "cell_type": "code",
   "execution_count": 291,
   "metadata": {
    "collapsed": true
   },
   "outputs": [],
   "source": [
    "from nltk.corpus import PlaintextCorpusReader\n",
    "corpus_root = 'H:/GEMINI/Results/WATSON/corpus'\n",
    "ct_reports = PlaintextCorpusReader(corpus_root, '.*')\n"
   ]
  },
  {
   "cell_type": "code",
   "execution_count": 292,
   "metadata": {
    "collapsed": true
   },
   "outputs": [],
   "source": [
    "all_words = nltk.FreqDist(w.lower() for w in ct_reports.words() if w.isalpha())\n",
    "word_features = list(all_words)\n"
   ]
  },
  {
   "cell_type": "code",
   "execution_count": 293,
   "metadata": {
    "collapsed": true
   },
   "outputs": [],
   "source": [
    "def document_features(document):\n",
    "    document_words = set(document)\n",
    "    features = {}\n",
    "    for word in word_features:\n",
    "        features['contains({})'.format(word)] = (word in document_words)\n",
    "    return features"
   ]
  },
  {
   "cell_type": "code",
   "execution_count": 299,
   "metadata": {},
   "outputs": [
    {
     "name": "stdout",
     "output_type": "stream",
     "text": [
      "Most Informative Features\n",
      "      contains(vascular) = True                n : y      =     12.6 : 1.0\n",
      "        contains(anemia) = True                n : y      =     12.6 : 1.0\n",
      "          contains(dose) = True                n : y      =      9.6 : 1.0\n",
      "          contains(lack) = True                n : y      =      8.5 : 1.0\n",
      "     contains(technique) = True                n : y      =      8.2 : 1.0\n",
      "    contains(osteopenia) = True                n : y      =      8.2 : 1.0\n",
      "contains(administration) = True                y : n      =      6.7 : 1.0\n",
      "        contains(island) = True                n : y      =      6.7 : 1.0\n",
      "    contains(ultrasound) = True                n : y      =      6.7 : 1.0\n",
      "         contains(third) = True                n : y      =      6.7 : 1.0\n",
      "         contains(blood) = True                n : y      =      6.7 : 1.0\n",
      "      contains(evaluate) = True                n : y      =      6.7 : 1.0\n",
      "        contains(mainly) = True                n : y      =      6.7 : 1.0\n",
      "    contains(unenhanced) = True                n : y      =      5.8 : 1.0\n",
      "   contains(enhancement) = True                y : n      =      5.5 : 1.0\n",
      " contains(opacification) = True                y : n      =      5.5 : 1.0\n",
      "        contains(fungal) = True                n : y      =      5.2 : 1.0\n",
      "       contains(earlier) = True                n : y      =      5.2 : 1.0\n",
      "         contains(usual) = True                n : y      =      5.2 : 1.0\n",
      "          contains(term) = True                n : y      =      5.2 : 1.0\n"
     ]
    }
   ],
   "source": [
    "featuresets = [(document_features(d), c) for (d,c) in document]\n",
    "train_set, test_set = featuresets[100:], featuresets[:100]\n",
    "test = [(a) for (a, b) in featuresets]\n",
    "classifier = nltk.NaiveBayesClassifier.train(train_set)\n",
    "classifier.show_most_informative_features(20)"
   ]
  },
  {
   "cell_type": "code",
   "execution_count": 295,
   "metadata": {},
   "outputs": [
    {
     "name": "stdout",
     "output_type": "stream",
     "text": [
      "0.72\n"
     ]
    }
   ],
   "source": [
    "print(nltk.classify.accuracy(classifier, test_set))"
   ]
  },
  {
   "cell_type": "code",
   "execution_count": 300,
   "metadata": {},
   "outputs": [
    {
     "data": {
      "text/plain": [
       "['y',\n",
       " 'y',\n",
       " 'y',\n",
       " 'y',\n",
       " 'y',\n",
       " 'y',\n",
       " 'y',\n",
       " 'y',\n",
       " 'y',\n",
       " 'y',\n",
       " 'y',\n",
       " 'y',\n",
       " 'n',\n",
       " 'y',\n",
       " 'y',\n",
       " 'n',\n",
       " 'y',\n",
       " 'y',\n",
       " 'n',\n",
       " 'y',\n",
       " 'y',\n",
       " 'y',\n",
       " 'y',\n",
       " 'y',\n",
       " 'y',\n",
       " 'y',\n",
       " 'y',\n",
       " 'y',\n",
       " 'y',\n",
       " 'y',\n",
       " 'n',\n",
       " 'y',\n",
       " 'n',\n",
       " 'y',\n",
       " 'y',\n",
       " 'y',\n",
       " 'y',\n",
       " 'y',\n",
       " 'y',\n",
       " 'y',\n",
       " 'n',\n",
       " 'n',\n",
       " 'y',\n",
       " 'y',\n",
       " 'y',\n",
       " 'y',\n",
       " 'y',\n",
       " 'y',\n",
       " 'y',\n",
       " 'y',\n",
       " 'n',\n",
       " 'y',\n",
       " 'y',\n",
       " 'y',\n",
       " 'n',\n",
       " 'y',\n",
       " 'y',\n",
       " 'y',\n",
       " 'y',\n",
       " 'n',\n",
       " 'n',\n",
       " 'n',\n",
       " 'y',\n",
       " 'y',\n",
       " 'y',\n",
       " 'y',\n",
       " 'y',\n",
       " 'y',\n",
       " 'y',\n",
       " 'y',\n",
       " 'n',\n",
       " 'y',\n",
       " 'y',\n",
       " 'n',\n",
       " 'y',\n",
       " 'y',\n",
       " 'y',\n",
       " 'y',\n",
       " 'y',\n",
       " 'n',\n",
       " 'y',\n",
       " 'n',\n",
       " 'n',\n",
       " 'y',\n",
       " 'y',\n",
       " 'y',\n",
       " 'y',\n",
       " 'y',\n",
       " 'y',\n",
       " 'y',\n",
       " 'y',\n",
       " 'y',\n",
       " 'n',\n",
       " 'y',\n",
       " 'y',\n",
       " 'n',\n",
       " 'y',\n",
       " 'n',\n",
       " 'y',\n",
       " 'y',\n",
       " 'y',\n",
       " 'y',\n",
       " 'y',\n",
       " 'y',\n",
       " 'y',\n",
       " 'y',\n",
       " 'y',\n",
       " 'n',\n",
       " 'y',\n",
       " 'y',\n",
       " 'y',\n",
       " 'y',\n",
       " 'y',\n",
       " 'y',\n",
       " 'n',\n",
       " 'y',\n",
       " 'n',\n",
       " 'n',\n",
       " 'y',\n",
       " 'y',\n",
       " 'y',\n",
       " 'y',\n",
       " 'n',\n",
       " 'y',\n",
       " 'y',\n",
       " 'y',\n",
       " 'y',\n",
       " 'n',\n",
       " 'n',\n",
       " 'y',\n",
       " 'y',\n",
       " 'y',\n",
       " 'y',\n",
       " 'y',\n",
       " 'y',\n",
       " 'y',\n",
       " 'n',\n",
       " 'y',\n",
       " 'y',\n",
       " 'n',\n",
       " 'n',\n",
       " 'y',\n",
       " 'y',\n",
       " 'y',\n",
       " 'y',\n",
       " 'y',\n",
       " 'y',\n",
       " 'n',\n",
       " 'y',\n",
       " 'n',\n",
       " 'y',\n",
       " 'n',\n",
       " 'n',\n",
       " 'y',\n",
       " 'n',\n",
       " 'y',\n",
       " 'y',\n",
       " 'y',\n",
       " 'y',\n",
       " 'y',\n",
       " 'n',\n",
       " 'y',\n",
       " 'n',\n",
       " 'y',\n",
       " 'y',\n",
       " 'n',\n",
       " 'y',\n",
       " 'n',\n",
       " 'y',\n",
       " 'y',\n",
       " 'y',\n",
       " 'y',\n",
       " 'y',\n",
       " 'n',\n",
       " 'y',\n",
       " 'y',\n",
       " 'n',\n",
       " 'y',\n",
       " 'y',\n",
       " 'y',\n",
       " 'y',\n",
       " 'n',\n",
       " 'y',\n",
       " 'y',\n",
       " 'n',\n",
       " 'y',\n",
       " 'y',\n",
       " 'n',\n",
       " 'y',\n",
       " 'y',\n",
       " 'y',\n",
       " 'y',\n",
       " 'y',\n",
       " 'n',\n",
       " 'y',\n",
       " 'y',\n",
       " 'y',\n",
       " 'y',\n",
       " 'y',\n",
       " 'n',\n",
       " 'y',\n",
       " 'y',\n",
       " 'y',\n",
       " 'y',\n",
       " 'n',\n",
       " 'y',\n",
       " 'y',\n",
       " 'y',\n",
       " 'y',\n",
       " 'y',\n",
       " 'y',\n",
       " 'y',\n",
       " 'n',\n",
       " 'y',\n",
       " 'y',\n",
       " 'y',\n",
       " 'n',\n",
       " 'y',\n",
       " 'n',\n",
       " 'y',\n",
       " 'n',\n",
       " 'y',\n",
       " 'n',\n",
       " 'y',\n",
       " 'n',\n",
       " 'n',\n",
       " 'y',\n",
       " 'y',\n",
       " 'n',\n",
       " 'y',\n",
       " 'y',\n",
       " 'n',\n",
       " 'y',\n",
       " 'y',\n",
       " 'y',\n",
       " 'y',\n",
       " 'y',\n",
       " 'n',\n",
       " 'n',\n",
       " 'n',\n",
       " 'y',\n",
       " 'y',\n",
       " 'n',\n",
       " 'n',\n",
       " 'y',\n",
       " 'n',\n",
       " 'y',\n",
       " 'y',\n",
       " 'y',\n",
       " 'y',\n",
       " 'y',\n",
       " 'y',\n",
       " 'y',\n",
       " 'n',\n",
       " 'n',\n",
       " 'y',\n",
       " 'y',\n",
       " 'y',\n",
       " 'y',\n",
       " 'y',\n",
       " 'y',\n",
       " 'y',\n",
       " 'y',\n",
       " 'y',\n",
       " 'y',\n",
       " 'n',\n",
       " 'y',\n",
       " 'n',\n",
       " 'n',\n",
       " 'n',\n",
       " 'y',\n",
       " 'y',\n",
       " 'y',\n",
       " 'n',\n",
       " 'y',\n",
       " 'y',\n",
       " 'n',\n",
       " 'y',\n",
       " 'y',\n",
       " 'n',\n",
       " 'y',\n",
       " 'n',\n",
       " 'n',\n",
       " 'n',\n",
       " 'y',\n",
       " 'y',\n",
       " 'y',\n",
       " 'y',\n",
       " 'n',\n",
       " 'y',\n",
       " 'y',\n",
       " 'n',\n",
       " 'n',\n",
       " 'n',\n",
       " 'y',\n",
       " 'n',\n",
       " 'y',\n",
       " 'y']"
      ]
     },
     "execution_count": 300,
     "metadata": {},
     "output_type": "execute_result"
    }
   ],
   "source": [
    "#classifier.classify_many(test)"
   ]
  },
  {
   "cell_type": "code",
   "execution_count": 296,
   "metadata": {
    "collapsed": true
   },
   "outputs": [],
   "source": [
    "classifier2 = nltk.classify.DecisionTreeClassifier.train(train_set, entropy_cutoff = 0.5)"
   ]
  },
  {
   "cell_type": "code",
   "execution_count": 297,
   "metadata": {},
   "outputs": [
    {
     "name": "stdout",
     "output_type": "stream",
     "text": [
      "0.82\n"
     ]
    }
   ],
   "source": [
    "print(nltk.classify.accuracy(classifier2, test_set))"
   ]
  }
 ],
 "metadata": {
  "kernelspec": {
   "display_name": "Python 3",
   "language": "python",
   "name": "python3"
  },
  "language_info": {
   "codemirror_mode": {
    "name": "ipython",
    "version": 3
   },
   "file_extension": ".py",
   "mimetype": "text/x-python",
   "name": "python",
   "nbconvert_exporter": "python",
   "pygments_lexer": "ipython3",
   "version": "3.5.3"
  }
 },
 "nbformat": 4,
 "nbformat_minor": 2
}
