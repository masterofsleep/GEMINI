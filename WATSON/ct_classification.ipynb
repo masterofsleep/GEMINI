{
 "cells": [
  {
   "cell_type": "code",
   "execution_count": 1,
   "metadata": {
    "collapsed": true
   },
   "outputs": [],
   "source": [
    "import csv\n",
    "import os\n",
    "import nltk\n",
    "import random\n",
    "from nltk import word_tokenize\n",
    "os.chdir('H:/GEMINI/Results/WATSON/')"
   ]
  },
  {
   "cell_type": "code",
   "execution_count": 2,
   "metadata": {
    "collapsed": true
   },
   "outputs": [],
   "source": [
    "f = open('nlp.data.csv', newline = \"\")\n",
    "full = csv.reader(f)"
   ]
  },
  {
   "cell_type": "code",
   "execution_count": 63,
   "metadata": {
    "collapsed": true
   },
   "outputs": [],
   "source": [
    "full = list(full)\n",
    "report = []\n",
    "contrast = []\n",
    "for row in full:\n",
    "    report.append(word_tokenize(row[1]))\n",
    "    contrast.append(row[2])\n",
    "report = report[1:]\n",
    "contrast = contrast[1:]"
   ]
  },
  {
   "cell_type": "code",
   "execution_count": 94,
   "metadata": {
    "collapsed": true
   },
   "outputs": [],
   "source": [
    "document = [(list(report[i]), contrast[i])\n",
    "           for i in range(298)]\n",
    "random.shuffle(document)"
   ]
  },
  {
   "cell_type": "code",
   "execution_count": 95,
   "metadata": {},
   "outputs": [
    {
     "data": {
      "text/plain": [
       "298"
      ]
     },
     "execution_count": 95,
     "metadata": {},
     "output_type": "execute_result"
    }
   ],
   "source": [
    "len(document)"
   ]
  },
  {
   "cell_type": "code",
   "execution_count": 113,
   "metadata": {
    "collapsed": true
   },
   "outputs": [],
   "source": [
    "from nltk.corpus import PlaintextCorpusReader\n",
    "corpus_root = 'H:/GEMINI/Results/WATSON/corpus'\n",
    "ct_reports = PlaintextCorpusReader(corpus_root, '.*')\n"
   ]
  },
  {
   "cell_type": "code",
   "execution_count": 97,
   "metadata": {
    "collapsed": true
   },
   "outputs": [],
   "source": [
    "all_words = nltk.FreqDist(w.lower() for w in ct_reports.words() if w.isalpha())\n",
    "word_features = list(all_words)\n"
   ]
  },
  {
   "cell_type": "code",
   "execution_count": 98,
   "metadata": {
    "collapsed": true
   },
   "outputs": [],
   "source": [
    "def document_features(document):\n",
    "    document_words = set(document)\n",
    "    features = {}\n",
    "    for word in word_features:\n",
    "        features['contains({})'.format(word)] = (word in document_words)\n",
    "    return features"
   ]
  },
  {
   "cell_type": "code",
   "execution_count": 99,
   "metadata": {},
   "outputs": [
    {
     "name": "stdout",
     "output_type": "stream",
     "text": [
      "Most Informative Features\n",
      "        contains(anemia) = True                n : y      =     10.4 : 1.0\n",
      "contains(administration) = True                y : n      =      9.1 : 1.0\n",
      "    contains(unenhanced) = True                n : y      =      9.0 : 1.0\n",
      "          contains(dose) = True                n : y      =      9.0 : 1.0\n",
      "          contains(lack) = True                n : y      =      7.9 : 1.0\n",
      "         contains(thick) = True                n : y      =      7.6 : 1.0\n",
      "       contains(without) = True                n : y      =      7.2 : 1.0\n",
      "      contains(material) = True                n : y      =      7.1 : 1.0\n",
      "         contains(renal) = True                n : y      =      7.0 : 1.0\n",
      "     contains(following) = True                y : n      =      6.8 : 1.0\n",
      " contains(opacification) = True                y : n      =      6.4 : 1.0\n",
      "       contains(smoking) = True                n : y      =      6.2 : 1.0\n",
      "         contains(blood) = True                n : y      =      6.2 : 1.0\n",
      "     contains(technique) = True                n : y      =      5.4 : 1.0\n",
      "       contains(quality) = True                y : n      =      5.3 : 1.0\n",
      "        contains(highly) = True                n : y      =      4.8 : 1.0\n",
      "        contains(simple) = True                n : y      =      4.8 : 1.0\n",
      "       contains(earlier) = True                n : y      =      4.8 : 1.0\n",
      "          contains(none) = True                n : y      =      4.8 : 1.0\n",
      "         contains(mucus) = True                n : y      =      4.8 : 1.0\n"
     ]
    }
   ],
   "source": [
    "featuresets = [(document_features(d), c) for (d,c) in document]\n",
    "train_set, test_set = featuresets[100:], featuresets[:100]\n",
    "test = [(a) for (a, b) in featuresets]\n",
    "classifier = nltk.NaiveBayesClassifier.train(train_set)\n",
    "classifier.show_most_informative_features(20)"
   ]
  },
  {
   "cell_type": "code",
   "execution_count": 100,
   "metadata": {},
   "outputs": [
    {
     "name": "stdout",
     "output_type": "stream",
     "text": [
      "0.77\n"
     ]
    }
   ],
   "source": [
    "print(nltk.classify.accuracy(classifier, test_set))"
   ]
  },
  {
   "cell_type": "code",
   "execution_count": 101,
   "metadata": {},
   "outputs": [],
   "source": [
    "#classifier.classify_many(test)"
   ]
  },
  {
   "cell_type": "code",
   "execution_count": 102,
   "metadata": {
    "collapsed": true
   },
   "outputs": [],
   "source": [
    "classifier2 = nltk.classify.DecisionTreeClassifier.train(train_set, entropy_cutoff = 0.5)"
   ]
  },
  {
   "cell_type": "code",
   "execution_count": 103,
   "metadata": {},
   "outputs": [
    {
     "name": "stdout",
     "output_type": "stream",
     "text": [
      "0.8\n"
     ]
    }
   ],
   "source": [
    "print(nltk.classify.accuracy(classifier2, test_set))"
   ]
  },
  {
   "cell_type": "code",
   "execution_count": 104,
   "metadata": {
    "collapsed": true
   },
   "outputs": [],
   "source": [
    "from sklearn import linear_model\n",
    "from sklearn.ensemble import RandomForestClassifier"
   ]
  },
  {
   "cell_type": "code",
   "execution_count": 105,
   "metadata": {},
   "outputs": [],
   "source": [
    "classif = SklearnClassifier(RandomForestClassifier())\n",
    "classifier3 = classif.train(train_set)"
   ]
  },
  {
   "cell_type": "code",
   "execution_count": 106,
   "metadata": {},
   "outputs": [
    {
     "name": "stdout",
     "output_type": "stream",
     "text": [
      "0.77\n"
     ]
    }
   ],
   "source": [
    "print(nltk.classify.accuracy(classifier3, test_set))"
   ]
  },
  {
   "cell_type": "code",
   "execution_count": 115,
   "metadata": {
    "collapsed": true
   },
   "outputs": [],
   "source": [
    "# try different classifiers\n",
    "from sklearn.neural_network import MLPClassifier\n",
    "from sklearn.neighbors import KNeighborsClassifier\n",
    "from sklearn.svm import SVC\n",
    "from sklearn.tree import DecisionTreeClassifier\n",
    "from sklearn.ensemble import RandomForestClassifier, AdaBoostClassifier, GradientBoostingClassifier\n",
    "from sklearn.naive_bayes import GaussianNB"
   ]
  },
  {
   "cell_type": "code",
   "execution_count": 116,
   "metadata": {},
   "outputs": [
    {
     "name": "stdout",
     "output_type": "stream",
     "text": [
      "SVC(C=0.02, cache_size=200, class_weight=None, coef0=0.0,\n",
      "  decision_function_shape=None, degree=3, gamma='auto', kernel='linear',\n",
      "  max_iter=-1, probability=False, random_state=None, shrinking=True,\n",
      "  tol=0.001, verbose=False): 0.81\n",
      "DecisionTreeClassifier(class_weight=None, criterion='gini', max_depth=6,\n",
      "            max_features=None, max_leaf_nodes=None,\n",
      "            min_impurity_split=1e-07, min_samples_leaf=1,\n",
      "            min_samples_split=2, min_weight_fraction_leaf=0.0,\n",
      "            presort=False, random_state=None, splitter='best'): 0.83\n",
      "RandomForestClassifier(bootstrap=True, class_weight=None, criterion='gini',\n",
      "            max_depth=5, max_features=1, max_leaf_nodes=None,\n",
      "            min_impurity_split=1e-07, min_samples_leaf=1,\n",
      "            min_samples_split=2, min_weight_fraction_leaf=0.0,\n",
      "            n_estimators=10, n_jobs=1, oob_score=False, random_state=None,\n",
      "            verbose=0, warm_start=False): 0.75\n",
      "MLPClassifier(activation='relu', alpha=0.1, batch_size='auto', beta_1=0.9,\n",
      "       beta_2=0.999, early_stopping=False, epsilon=1e-08,\n",
      "       hidden_layer_sizes=(100,), learning_rate='constant',\n",
      "       learning_rate_init=0.001, max_iter=200, momentum=0.9,\n",
      "       nesterovs_momentum=True, power_t=0.5, random_state=None,\n",
      "       shuffle=True, solver='adam', tol=0.0001, validation_fraction=0.1,\n",
      "       verbose=False, warm_start=False): 0.83\n",
      "AdaBoostClassifier(algorithm='SAMME.R', base_estimator=None,\n",
      "          learning_rate=1.0, n_estimators=50, random_state=None): 0.83\n"
     ]
    }
   ],
   "source": [
    "classifiers = [\n",
    "    SVC(kernel=\"linear\", C=0.02),\n",
    "    DecisionTreeClassifier(max_depth=6),\n",
    "    RandomForestClassifier(max_depth=5, n_estimators=10, max_features=1),\n",
    "    MLPClassifier(alpha=0.1),\n",
    "    AdaBoostClassifier()\n",
    "]\n",
    "for cl in classifiers:\n",
    "    classif = SklearnClassifier(cl)\n",
    "    classifier_i = classif.train(train_set)\n",
    "    print(cl, end = ': ')\n",
    "    print(nltk.classify.accuracy(classifier_i, test_set))"
   ]
  },
  {
   "cell_type": "code",
   "execution_count": 110,
   "metadata": {},
   "outputs": [
    {
     "name": "stdout",
     "output_type": "stream",
     "text": [
      "0.05: 0.81\n",
      "0.1: 0.82\n",
      "0.5: 0.79\n",
      "1: 0.86\n",
      "1.5: 0.79\n",
      "2: 0.5\n"
     ]
    }
   ],
   "source": [
    "# parameter tuning for ada\n",
    "learning_rates = [0.05, 0.1, 0.5, 1, 1.5, 2]\n",
    "for learning_rate in learning_rates:\n",
    "    classif = SklearnClassifier(AdaBoostClassifier(n_estimators = 100, learning_rate = learning_rate))\n",
    "    classifier_i = classif.train(train_set)\n",
    "    print(learning_rate, end = ': ')\n",
    "    print(nltk.classify.accuracy(classifier_i, test_set))"
   ]
  },
  {
   "cell_type": "code",
   "execution_count": null,
   "metadata": {
    "collapsed": true
   },
   "outputs": [],
   "source": []
  }
 ],
 "metadata": {
  "kernelspec": {
   "display_name": "Python 3",
   "language": "python",
   "name": "python3"
  },
  "language_info": {
   "codemirror_mode": {
    "name": "ipython",
    "version": 3
   },
   "file_extension": ".py",
   "mimetype": "text/x-python",
   "name": "python",
   "nbconvert_exporter": "python",
   "pygments_lexer": "ipython3",
   "version": "3.5.3"
  }
 },
 "nbformat": 4,
 "nbformat_minor": 2
}
